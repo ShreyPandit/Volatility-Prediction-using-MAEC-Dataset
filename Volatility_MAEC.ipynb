{
  "nbformat": 4,
  "nbformat_minor": 0,
  "metadata": {
    "colab": {
      "name": "Volatility-MAEC",
      "provenance": [],
      "collapsed_sections": [],
      "toc_visible": true,
      "mount_file_id": "1tntL6NwJpSUlYOp2l4UmExQsvU0fP4Pi",
      "authorship_tag": "ABX9TyNLJmZ5Sb5+YIReHufs5BaG",
      "include_colab_link": true
    },
    "kernelspec": {
      "name": "python3",
      "display_name": "Python 3"
    },
    "accelerator": "GPU"
  },
  "cells": [
    {
      "cell_type": "markdown",
      "metadata": {
        "id": "view-in-github",
        "colab_type": "text"
      },
      "source": [
        "<a href=\"https://colab.research.google.com/github/ShreyPandit/Volatility-Prediction-using-MAEC-Dataset/blob/main/Volatility_MAEC.ipynb\" target=\"_parent\"><img src=\"https://colab.research.google.com/assets/colab-badge.svg\" alt=\"Open In Colab\"/></a>"
      ]
    },
    {
      "cell_type": "code",
      "metadata": {
        "colab": {
          "base_uri": "https://localhost:8080/"
        },
        "id": "fBWOfhcl-L08",
        "outputId": "21bed06c-a05d-4d09-ba43-806e36d84a5a"
      },
      "source": [
        "!git clone https://github.com/Earnings-Call-Dataset/MAEC-A-Multimodal-Aligned-Earnings-Conference-Call-Dataset-for-Financial-Risk-Prediction.git"
      ],
      "execution_count": 1,
      "outputs": [
        {
          "output_type": "stream",
          "text": [
            "Cloning into 'MAEC-A-Multimodal-Aligned-Earnings-Conference-Call-Dataset-for-Financial-Risk-Prediction'...\n",
            "remote: Enumerating objects: 4784, done.\u001b[K\n",
            "remote: Counting objects: 100% (4784/4784), done.\u001b[K\n",
            "remote: Compressing objects: 100% (2401/2401), done.\u001b[K\n",
            "remote: Total 15104 (delta 22), reused 4756 (delta 6), pack-reused 10320\u001b[K\n",
            "Receiving objects: 100% (15104/15104), 72.12 MiB | 25.58 MiB/s, done.\n",
            "Resolving deltas: 100% (53/53), done.\n",
            "Checking out files: 100% (9278/9278), done.\n"
          ],
          "name": "stdout"
        }
      ]
    },
    {
      "cell_type": "code",
      "metadata": {
        "id": "MOSsk1sMfVkV"
      },
      "source": [
        "!pip install bert-for-tf2 >> /dev/null\r\n",
        "!pip install sentencepiece >> /dev/null\r\n",
        "\r\n",
        "import os\r\n",
        "import math\r\n",
        "import datetime\r\n",
        "\r\n",
        "from tqdm import tqdm\r\n",
        "\r\n",
        "import pandas as pd\r\n",
        "import numpy as np\r\n",
        "\r\n",
        "import tensorflow as tf\r\n",
        "from tensorflow import keras\r\n",
        "import keras\r\n",
        "\r\n",
        "import bert\r\n",
        "from bert import BertModelLayer\r\n",
        "from bert.loader import StockBertConfig, map_stock_config_to_params, load_stock_weights\r\n",
        "from bert.tokenization.bert_tokenization import FullTokenizer\r\n",
        "\r\n",
        "import seaborn as sns\r\n",
        "from pylab import rcParams\r\n",
        "import matplotlib.pyplot as plt\r\n",
        "from matplotlib.ticker import MaxNLocator\r\n",
        "from matplotlib import rc\r\n",
        "\r\n",
        "from sklearn.metrics import confusion_matrix, classification_report\r\n",
        "\r\n",
        "%matplotlib inline\r\n",
        "RANDOM_SEED = 42\r\n",
        "\r\n",
        "np.random.seed(RANDOM_SEED)\r\n",
        "tf.random.set_seed(RANDOM_SEED)\r\n",
        "\r\n",
        "import pandas as pd"
      ],
      "execution_count": 2,
      "outputs": []
    },
    {
      "cell_type": "code",
      "metadata": {
        "id": "GDqNWHjm-M69"
      },
      "source": [
        "def gettxtfile(name):\r\n",
        "  a = name.split('-')[0]\r\n",
        "  company = a.split('_')[0]\r\n",
        "  date = a.split('_')[1]\r\n",
        "  base = '/content/MAEC-A-Multimodal-Aligned-Earnings-Conference-Call-Dataset-for-Financial-Risk-Prediction/MAEC_Dataset/'\r\n",
        "  f = open(base+str(date) + str('_')+ str(company)+str('/')+'text.txt')\r\n",
        "  a = f.read()\r\n",
        "  return a"
      ],
      "execution_count": 3,
      "outputs": []
    },
    {
      "cell_type": "code",
      "metadata": {
        "id": "BVmmrR79BcsX"
      },
      "source": [
        "a = gettxtfile('A_20160817-00031.npy')"
      ],
      "execution_count": 4,
      "outputs": []
    },
    {
      "cell_type": "code",
      "metadata": {
        "colab": {
          "base_uri": "https://localhost:8080/"
        },
        "id": "IamYZoAmgVXd",
        "outputId": "1da332ce-0818-46c7-fff9-7201f0bbaff9"
      },
      "source": [
        "!wget https://storage.googleapis.com/bert_models/2018_10_18/uncased_L-12_H-768_A-12.zip\r\n",
        "!unzip uncased_L-12_H-768_A-12.zip"
      ],
      "execution_count": 5,
      "outputs": [
        {
          "output_type": "stream",
          "text": [
            "--2021-01-05 03:44:53--  https://storage.googleapis.com/bert_models/2018_10_18/uncased_L-12_H-768_A-12.zip\n",
            "Resolving storage.googleapis.com (storage.googleapis.com)... 74.125.197.128, 74.125.195.128, 74.125.142.128, ...\n",
            "Connecting to storage.googleapis.com (storage.googleapis.com)|74.125.197.128|:443... connected.\n",
            "HTTP request sent, awaiting response... 200 OK\n",
            "Length: 407727028 (389M) [application/zip]\n",
            "Saving to: ‘uncased_L-12_H-768_A-12.zip’\n",
            "\n",
            "uncased_L-12_H-768_ 100%[===================>] 388.84M   166MB/s    in 2.3s    \n",
            "\n",
            "2021-01-05 03:44:55 (166 MB/s) - ‘uncased_L-12_H-768_A-12.zip’ saved [407727028/407727028]\n",
            "\n",
            "Archive:  uncased_L-12_H-768_A-12.zip\n",
            "   creating: uncased_L-12_H-768_A-12/\n",
            "  inflating: uncased_L-12_H-768_A-12/bert_model.ckpt.meta  \n",
            "  inflating: uncased_L-12_H-768_A-12/bert_model.ckpt.data-00000-of-00001  \n",
            "  inflating: uncased_L-12_H-768_A-12/vocab.txt  \n",
            "  inflating: uncased_L-12_H-768_A-12/bert_model.ckpt.index  \n",
            "  inflating: uncased_L-12_H-768_A-12/bert_config.json  \n"
          ],
          "name": "stdout"
        }
      ]
    },
    {
      "cell_type": "code",
      "metadata": {
        "id": "VfQjv0Mzgahe"
      },
      "source": [
        "os.makedirs(\"model\", exist_ok=True)\r\n",
        "!mv uncased_L-12_H-768_A-12/ model\r\n",
        "bert_model_name=\"uncased_L-12_H-768_A-12\"\r\n",
        "\r\n",
        "bert_ckpt_dir = os.path.join(\"model/\", bert_model_name)\r\n",
        "bert_ckpt_file = os.path.join(bert_ckpt_dir, \"bert_model.ckpt\")\r\n",
        "bert_config_file = os.path.join(bert_ckpt_dir, \"bert_config.json\")"
      ],
      "execution_count": 6,
      "outputs": []
    },
    {
      "cell_type": "code",
      "metadata": {
        "id": "W5NPCottr8he"
      },
      "source": [
        "tokenizer = FullTokenizer(vocab_file=os.path.join(bert_ckpt_dir, \"vocab.txt\"))"
      ],
      "execution_count": 7,
      "outputs": []
    },
    {
      "cell_type": "code",
      "metadata": {
        "id": "_R6CxyESIMWG"
      },
      "source": [
        ""
      ],
      "execution_count": null,
      "outputs": []
    },
    {
      "cell_type": "markdown",
      "metadata": {
        "id": "xRWM4Y2tkoZZ"
      },
      "source": [
        "# Calculating the Average log volitility over 3 days"
      ]
    },
    {
      "cell_type": "code",
      "metadata": {
        "id": "lzgZ2AAHup-t"
      },
      "source": [
        "import datetime\r\n",
        "import pandas_datareader.data as web\r\n",
        "from pandas import Series, DataFrame\r\n",
        "import os\r\n",
        "import numpy as np\r\n",
        "from tqdm import tqdm\r\n",
        "import math"
      ],
      "execution_count": 8,
      "outputs": []
    },
    {
      "cell_type": "code",
      "metadata": {
        "id": "Z0Lj6iiOu1M8"
      },
      "source": [
        "def calcVol(stock,start):\r\n",
        "  year = int(start[:4])\r\n",
        "  month = int(start[4:6])\r\n",
        "  day = int(start[6:])\r\n",
        "  next_year = year\r\n",
        "  next_month=month\r\n",
        "  prev_month = month\r\n",
        "  prev_year = year\r\n",
        "\r\n",
        "  starting = datetime.datetime(year,month, day-1)\r\n",
        "\r\n",
        "  if(month==12):\r\n",
        "    next_month=1\r\n",
        "    next_year = year+1\r\n",
        "  else:\r\n",
        "    next_month=month+1\r\n",
        "  \r\n",
        "\r\n",
        "  ending = datetime.datetime(next_year,next_month, day\r\n",
        "                             )\r\n",
        "\r\n",
        "  df= web.DataReader(stock,\"yahoo\",starting,ending)\r\n",
        "  df = df.iloc[:3,:]\r\n",
        "  return df\r\n"
      ],
      "execution_count": 9,
      "outputs": []
    },
    {
      "cell_type": "code",
      "metadata": {
        "id": "uWgGmASuRsJb"
      },
      "source": [
        "def calcVol2(stock,start):\r\n",
        "  year = int(start[:4])\r\n",
        "  month = int(start[4:6])\r\n",
        "  day = int(start[6:])\r\n",
        "  next_year = year\r\n",
        "  next_month=month\r\n",
        "  prev_month = month\r\n",
        "  prev_year = year\r\n",
        "\r\n",
        "\r\n",
        "  starting = datetime.datetime(year,month, day-1)\r\n",
        "\r\n",
        "  if(month==12):\r\n",
        "    next_month=1\r\n",
        "    next_year = year+1\r\n",
        "  else:\r\n",
        "    next_month=month+1\r\n",
        "  \r\n",
        "\r\n",
        "  ending = datetime.datetime(next_year,next_month, day\r\n",
        "                             )\r\n",
        "\r\n",
        "  df= web.DataReader(stock,\"yahoo\",starting,ending)\r\n",
        "  df = df.iloc[-4:,:]\r\n",
        "  return df\r\n"
      ],
      "execution_count": 10,
      "outputs": []
    },
    {
      "cell_type": "code",
      "metadata": {
        "id": "69Jt7W_Dm0n8"
      },
      "source": [
        "def extract(name):\r\n",
        "  stock_code = name.split('_')[0]\r\n",
        "  date1 = name.split('_')[1]\r\n",
        "  date = date1.split('-')[0]\r\n",
        "  df1 = calcVol(stock_code,date)\r\n",
        "  time = df1.index[-1]\r\n",
        "  year_end = str(time.year)\r\n",
        "  month_end = str(time.month)\r\n",
        "  if (month_end == '01'):\r\n",
        "    month_end  = '12'\r\n",
        "    year_end = str((int(year_end)-1))\r\n",
        "  else:\r\n",
        "    month_end = str(int(month_end)-1)\r\n",
        "  if (len(month_end)==1):\r\n",
        "    month_end = str('0'+ month_end)\r\n",
        "  date_end = str(time.day)\r\n",
        "  if (len(date_end)==1):\r\n",
        "    date_end = str('0'+ date_end)\r\n",
        "   \r\n",
        "  final_date = (str(year_end)+str(month_end)+str(date_end))\r\n",
        "  df2 = calcVol2(stock_code,final_date)\r\n",
        "  df2 = df2['Close'].values\r\n",
        "  return df2"
      ],
      "execution_count": 11,
      "outputs": []
    },
    {
      "cell_type": "code",
      "metadata": {
        "colab": {
          "base_uri": "https://localhost:8080/"
        },
        "id": "U9fYwHbNnQbs",
        "outputId": "9a0a5014-5279-4173-a658-ef43c161fc76"
      },
      "source": [
        "extract(\"A_20160817-00031.npy\")"
      ],
      "execution_count": 12,
      "outputs": [
        {
          "output_type": "execute_result",
          "data": {
            "text/plain": [
              "array([48.43999863, 48.27999878, 48.43000031, 46.72000122])"
            ]
          },
          "metadata": {
            "tags": []
          },
          "execution_count": 12
        }
      ]
    },
    {
      "cell_type": "code",
      "metadata": {
        "id": "MVPxt_UAv1tl"
      },
      "source": [
        "def calculatereturnprice(prev_day,curr_day):\r\n",
        "  return (float(curr_day/prev_day)-1)"
      ],
      "execution_count": 13,
      "outputs": []
    },
    {
      "cell_type": "code",
      "metadata": {
        "id": "8bdnHOZ2TkME"
      },
      "source": [
        "def calculateavlogvol(stock):\r\n",
        "  df = extract(stock)\r\n",
        "  rp1 = calculatereturnprice(df[0],df[1])\r\n",
        "  rp2 = calculatereturnprice(df[1],df[2])\r\n",
        "  rp3 = calculatereturnprice(df[2],df[3])\r\n",
        "  #print(rp1,rp2,rp3)\r\n",
        "\r\n",
        "  meanrp = float((rp1+rp2+rp3)/3)\r\n",
        "\r\n",
        "  rp12 = np.square(float(rp1-meanrp))\r\n",
        "  rp22 = np.square(float(rp2-meanrp))\r\n",
        "  rp32 = np.square(float(rp3-meanrp))\r\n",
        "\r\n",
        "  mean1 = float((rp12+rp22+rp32)/3)\r\n",
        "\r\n",
        "  a = (math.sqrt(mean1))\r\n",
        "  \r\n",
        "  return np.log(a)"
      ],
      "execution_count": 14,
      "outputs": []
    },
    {
      "cell_type": "markdown",
      "metadata": {
        "id": "FTQvd1t0k0ax"
      },
      "source": [
        "Creating CSV File"
      ]
    },
    {
      "cell_type": "code",
      "metadata": {
        "id": "9giXCW24jGyh"
      },
      "source": [
        "listofall = os.listdir('./drive/MyDrive/dataset/A')"
      ],
      "execution_count": 15,
      "outputs": []
    },
    {
      "cell_type": "code",
      "metadata": {
        "id": "e-n-S8X3jG2a"
      },
      "source": [
        "dataset = pd.DataFrame(listofall)"
      ],
      "execution_count": 19,
      "outputs": []
    },
    {
      "cell_type": "code",
      "metadata": {
        "id": "DaM72-OCjG9y"
      },
      "source": [
        "textfile=[]\r\n",
        "for a in listofall:\r\n",
        "  b = gettxtfile(a)\r\n",
        "  textfile.append(b)"
      ],
      "execution_count": 21,
      "outputs": []
    },
    {
      "cell_type": "code",
      "metadata": {
        "id": "bT4ak-N2jHDJ"
      },
      "source": [
        "dataset['Text'] = textfile"
      ],
      "execution_count": 22,
      "outputs": []
    },
    {
      "cell_type": "code",
      "metadata": {
        "id": "2PEdK5dYjHHF"
      },
      "source": [
        "numpyfile = []\r\n",
        "for a in listofall:\r\n",
        "  b = np.load('./drive/MyDrive/dataset/A/'+str(a))\r\n",
        "  numpyfile.append(b)"
      ],
      "execution_count": 23,
      "outputs": []
    },
    {
      "cell_type": "code",
      "metadata": {
        "id": "_95A9blGjHKP"
      },
      "source": [
        "dataset['Numpy'] = numpyfile"
      ],
      "execution_count": 24,
      "outputs": []
    },
    {
      "cell_type": "code",
      "metadata": {
        "colab": {
          "base_uri": "https://localhost:8080/"
        },
        "id": "j8n3EB_rjHNB",
        "outputId": "e839c4c4-6561-4993-a913-f08766d31643"
      },
      "source": [
        "dataset.columns"
      ],
      "execution_count": 25,
      "outputs": [
        {
          "output_type": "execute_result",
          "data": {
            "text/plain": [
              "Index([0, 'Text', 'Numpy'], dtype='object')"
            ]
          },
          "metadata": {
            "tags": []
          },
          "execution_count": 25
        }
      ]
    },
    {
      "cell_type": "code",
      "metadata": {
        "id": "iwixGI6HoQA5"
      },
      "source": [
        "avvolitility = []\r\n",
        "error = []\r\n",
        "counter = []\r\n",
        "count=0\r\n",
        "for a in listofall:\r\n",
        "  try:\r\n",
        "    b = calculateavlogvol(a)\r\n",
        "    avvolitility.append(b)\r\n",
        "  except:\r\n",
        "    print(a)\r\n",
        "    error.append(a)\r\n",
        "    counter.append(count)\r\n",
        "  count+=1"
      ],
      "execution_count": null,
      "outputs": []
    },
    {
      "cell_type": "code",
      "metadata": {
        "colab": {
          "base_uri": "https://localhost:8080/",
          "height": 431
        },
        "id": "3-KxjEtNoQFV",
        "outputId": "cacedd46-2ac7-403f-beb5-7c43b13410fb"
      },
      "source": [
        "dataset.set_index(0)"
      ],
      "execution_count": 27,
      "outputs": [
        {
          "output_type": "execute_result",
          "data": {
            "text/html": [
              "<div>\n",
              "<style scoped>\n",
              "    .dataframe tbody tr th:only-of-type {\n",
              "        vertical-align: middle;\n",
              "    }\n",
              "\n",
              "    .dataframe tbody tr th {\n",
              "        vertical-align: top;\n",
              "    }\n",
              "\n",
              "    .dataframe thead th {\n",
              "        text-align: right;\n",
              "    }\n",
              "</style>\n",
              "<table border=\"1\" class=\"dataframe\">\n",
              "  <thead>\n",
              "    <tr style=\"text-align: right;\">\n",
              "      <th></th>\n",
              "      <th>Text</th>\n",
              "      <th>Numpy</th>\n",
              "    </tr>\n",
              "    <tr>\n",
              "      <th>0</th>\n",
              "      <th></th>\n",
              "      <th></th>\n",
              "    </tr>\n",
              "  </thead>\n",
              "  <tbody>\n",
              "    <tr>\n",
              "      <th>ABC_20150723-00013.npy</th>\n",
              "      <td>Given that we're approaching the top of the ho...</td>\n",
              "      <td>[[-0.59440446, -0.599903, -0.6007702, -0.60046...</td>\n",
              "    </tr>\n",
              "    <tr>\n",
              "      <th>AAWW_20151105-00160.npy</th>\n",
              "      <td>So, you know, we always do recurrent pilot tra...</td>\n",
              "      <td>[[-0.39618757, -0.39562544, -0.39341366, -0.39...</td>\n",
              "    </tr>\n",
              "    <tr>\n",
              "      <th>ABT_20160420-00016.npy</th>\n",
              "      <td>Yes, again I don't feel unreasonably constrain...</td>\n",
              "      <td>[[-0.46677017, -0.4666495, -0.46556017, -0.464...</td>\n",
              "    </tr>\n",
              "    <tr>\n",
              "      <th>ABCB_20170421-00013.npy</th>\n",
              "      <td>Thank you, &lt;UNK&gt; and good morning everyone and...</td>\n",
              "      <td>[[-0.55746734, -0.553412, -0.55489373, -0.5440...</td>\n",
              "    </tr>\n",
              "    <tr>\n",
              "      <th>ABG_20180424-00172.npy</th>\n",
              "      <td>Thanks, operator, and good morning, everyone.\\...</td>\n",
              "      <td>[[-0.61008364, -0.61194575, -0.6090797, -0.609...</td>\n",
              "    </tr>\n",
              "    <tr>\n",
              "      <th>...</th>\n",
              "      <td>...</td>\n",
              "      <td>...</td>\n",
              "    </tr>\n",
              "    <tr>\n",
              "      <th>AAON_20180227-00200.npy</th>\n",
              "      <td>Good afternoon, ladies and gentlemen.\\nWelcome...</td>\n",
              "      <td>[[-0.28450432, -0.28448093, -0.28348, -0.28156...</td>\n",
              "    </tr>\n",
              "    <tr>\n",
              "      <th>AAWW_20151105-00188.npy</th>\n",
              "      <td>So, you know, we always do recurrent pilot tra...</td>\n",
              "      <td>[[-0.48194563, -0.48171577, -0.4813952, -0.482...</td>\n",
              "    </tr>\n",
              "    <tr>\n",
              "      <th>AAN_20170728-00131.npy</th>\n",
              "      <td>Thank you, and good morning, everyone.\\nWelcom...</td>\n",
              "      <td>[[-0.39801496, -0.3975194, -0.38705134, -0.373...</td>\n",
              "    </tr>\n",
              "    <tr>\n",
              "      <th>AAON_20180227-00133.npy</th>\n",
              "      <td>Good afternoon, ladies and gentlemen.\\nWelcome...</td>\n",
              "      <td>[[-0.6268496, -0.62679744, -0.62025875, -0.628...</td>\n",
              "    </tr>\n",
              "    <tr>\n",
              "      <th>ABG_20150721-00153.npy</th>\n",
              "      <td>Thanks, Operator, and good morning, everyone.\\...</td>\n",
              "      <td>[[-0.42340246, -0.42329174, -0.4233501, -0.423...</td>\n",
              "    </tr>\n",
              "  </tbody>\n",
              "</table>\n",
              "<p>500 rows × 2 columns</p>\n",
              "</div>"
            ],
            "text/plain": [
              "                                                                      Text                                              Numpy\n",
              "0                                                                                                                            \n",
              "ABC_20150723-00013.npy   Given that we're approaching the top of the ho...  [[-0.59440446, -0.599903, -0.6007702, -0.60046...\n",
              "AAWW_20151105-00160.npy  So, you know, we always do recurrent pilot tra...  [[-0.39618757, -0.39562544, -0.39341366, -0.39...\n",
              "ABT_20160420-00016.npy   Yes, again I don't feel unreasonably constrain...  [[-0.46677017, -0.4666495, -0.46556017, -0.464...\n",
              "ABCB_20170421-00013.npy  Thank you, <UNK> and good morning everyone and...  [[-0.55746734, -0.553412, -0.55489373, -0.5440...\n",
              "ABG_20180424-00172.npy   Thanks, operator, and good morning, everyone.\\...  [[-0.61008364, -0.61194575, -0.6090797, -0.609...\n",
              "...                                                                    ...                                                ...\n",
              "AAON_20180227-00200.npy  Good afternoon, ladies and gentlemen.\\nWelcome...  [[-0.28450432, -0.28448093, -0.28348, -0.28156...\n",
              "AAWW_20151105-00188.npy  So, you know, we always do recurrent pilot tra...  [[-0.48194563, -0.48171577, -0.4813952, -0.482...\n",
              "AAN_20170728-00131.npy   Thank you, and good morning, everyone.\\nWelcom...  [[-0.39801496, -0.3975194, -0.38705134, -0.373...\n",
              "AAON_20180227-00133.npy  Good afternoon, ladies and gentlemen.\\nWelcome...  [[-0.6268496, -0.62679744, -0.62025875, -0.628...\n",
              "ABG_20150721-00153.npy   Thanks, Operator, and good morning, everyone.\\...  [[-0.42340246, -0.42329174, -0.4233501, -0.423...\n",
              "\n",
              "[500 rows x 2 columns]"
            ]
          },
          "metadata": {
            "tags": []
          },
          "execution_count": 27
        }
      ]
    },
    {
      "cell_type": "code",
      "metadata": {
        "id": "FT0mE0Y5oQHp"
      },
      "source": [
        "for a in counter:\r\n",
        "  dataset.drop(a,inplace=True)"
      ],
      "execution_count": 41,
      "outputs": []
    },
    {
      "cell_type": "code",
      "metadata": {
        "id": "xnA9_6XCoQNY",
        "colab": {
          "base_uri": "https://localhost:8080/",
          "height": 402
        },
        "outputId": "462122b1-a74d-4473-8c3e-2758d6c6a2ee"
      },
      "source": [
        "dataset['Target'] = avvolitility\r\n",
        "dataset"
      ],
      "execution_count": 44,
      "outputs": [
        {
          "output_type": "execute_result",
          "data": {
            "text/html": [
              "<div>\n",
              "<style scoped>\n",
              "    .dataframe tbody tr th:only-of-type {\n",
              "        vertical-align: middle;\n",
              "    }\n",
              "\n",
              "    .dataframe tbody tr th {\n",
              "        vertical-align: top;\n",
              "    }\n",
              "\n",
              "    .dataframe thead th {\n",
              "        text-align: right;\n",
              "    }\n",
              "</style>\n",
              "<table border=\"1\" class=\"dataframe\">\n",
              "  <thead>\n",
              "    <tr style=\"text-align: right;\">\n",
              "      <th></th>\n",
              "      <th>0</th>\n",
              "      <th>Text</th>\n",
              "      <th>Numpy</th>\n",
              "      <th>Target</th>\n",
              "    </tr>\n",
              "  </thead>\n",
              "  <tbody>\n",
              "    <tr>\n",
              "      <th>0</th>\n",
              "      <td>ABC_20150723-00013.npy</td>\n",
              "      <td>Given that we're approaching the top of the ho...</td>\n",
              "      <td>[[-0.59440446, -0.599903, -0.6007702, -0.60046...</td>\n",
              "      <td>-3.896427</td>\n",
              "    </tr>\n",
              "    <tr>\n",
              "      <th>1</th>\n",
              "      <td>AAWW_20151105-00160.npy</td>\n",
              "      <td>So, you know, we always do recurrent pilot tra...</td>\n",
              "      <td>[[-0.39618757, -0.39562544, -0.39341366, -0.39...</td>\n",
              "      <td>-2.981558</td>\n",
              "    </tr>\n",
              "    <tr>\n",
              "      <th>2</th>\n",
              "      <td>ABT_20160420-00016.npy</td>\n",
              "      <td>Yes, again I don't feel unreasonably constrain...</td>\n",
              "      <td>[[-0.46677017, -0.4666495, -0.46556017, -0.464...</td>\n",
              "      <td>-6.070198</td>\n",
              "    </tr>\n",
              "    <tr>\n",
              "      <th>3</th>\n",
              "      <td>ABCB_20170421-00013.npy</td>\n",
              "      <td>Thank you, &lt;UNK&gt; and good morning everyone and...</td>\n",
              "      <td>[[-0.55746734, -0.553412, -0.55489373, -0.5440...</td>\n",
              "      <td>-5.021898</td>\n",
              "    </tr>\n",
              "    <tr>\n",
              "      <th>4</th>\n",
              "      <td>ABG_20180424-00172.npy</td>\n",
              "      <td>Thanks, operator, and good morning, everyone.\\...</td>\n",
              "      <td>[[-0.61008364, -0.61194575, -0.6090797, -0.609...</td>\n",
              "      <td>-5.633492</td>\n",
              "    </tr>\n",
              "    <tr>\n",
              "      <th>...</th>\n",
              "      <td>...</td>\n",
              "      <td>...</td>\n",
              "      <td>...</td>\n",
              "      <td>...</td>\n",
              "    </tr>\n",
              "    <tr>\n",
              "      <th>494</th>\n",
              "      <td>AAWW_20151105-00144.npy</td>\n",
              "      <td>So, you know, we always do recurrent pilot tra...</td>\n",
              "      <td>[[-0.67996675, -0.68047655, -0.6795333, -0.634...</td>\n",
              "      <td>-2.981558</td>\n",
              "    </tr>\n",
              "    <tr>\n",
              "      <th>495</th>\n",
              "      <td>AAON_20180227-00200.npy</td>\n",
              "      <td>Good afternoon, ladies and gentlemen.\\nWelcome...</td>\n",
              "      <td>[[-0.28450432, -0.28448093, -0.28348, -0.28156...</td>\n",
              "      <td>-2.932508</td>\n",
              "    </tr>\n",
              "    <tr>\n",
              "      <th>496</th>\n",
              "      <td>AAWW_20151105-00188.npy</td>\n",
              "      <td>So, you know, we always do recurrent pilot tra...</td>\n",
              "      <td>[[-0.48194563, -0.48171577, -0.4813952, -0.482...</td>\n",
              "      <td>-2.981558</td>\n",
              "    </tr>\n",
              "    <tr>\n",
              "      <th>498</th>\n",
              "      <td>AAON_20180227-00133.npy</td>\n",
              "      <td>Good afternoon, ladies and gentlemen.\\nWelcome...</td>\n",
              "      <td>[[-0.6268496, -0.62679744, -0.62025875, -0.628...</td>\n",
              "      <td>-2.932508</td>\n",
              "    </tr>\n",
              "    <tr>\n",
              "      <th>499</th>\n",
              "      <td>ABG_20150721-00153.npy</td>\n",
              "      <td>Thanks, Operator, and good morning, everyone.\\...</td>\n",
              "      <td>[[-0.42340246, -0.42329174, -0.4233501, -0.423...</td>\n",
              "      <td>-3.744257</td>\n",
              "    </tr>\n",
              "  </tbody>\n",
              "</table>\n",
              "<p>433 rows × 4 columns</p>\n",
              "</div>"
            ],
            "text/plain": [
              "                           0  ...    Target\n",
              "0     ABC_20150723-00013.npy  ... -3.896427\n",
              "1    AAWW_20151105-00160.npy  ... -2.981558\n",
              "2     ABT_20160420-00016.npy  ... -6.070198\n",
              "3    ABCB_20170421-00013.npy  ... -5.021898\n",
              "4     ABG_20180424-00172.npy  ... -5.633492\n",
              "..                       ...  ...       ...\n",
              "494  AAWW_20151105-00144.npy  ... -2.981558\n",
              "495  AAON_20180227-00200.npy  ... -2.932508\n",
              "496  AAWW_20151105-00188.npy  ... -2.981558\n",
              "498  AAON_20180227-00133.npy  ... -2.932508\n",
              "499   ABG_20150721-00153.npy  ... -3.744257\n",
              "\n",
              "[433 rows x 4 columns]"
            ]
          },
          "metadata": {
            "tags": []
          },
          "execution_count": 44
        }
      ]
    },
    {
      "cell_type": "code",
      "metadata": {
        "id": "T70rTFm1oQKD"
      },
      "source": [
        "dataset.to_csv(\"datasetfinal.csv\")"
      ],
      "execution_count": 156,
      "outputs": []
    },
    {
      "cell_type": "code",
      "metadata": {
        "id": "FrKC1qt1Vfuw"
      },
      "source": [
        ""
      ],
      "execution_count": null,
      "outputs": []
    },
    {
      "cell_type": "code",
      "metadata": {
        "id": "3KYlZ5r83J7L"
      },
      "source": [
        "dataset = pd.read_csv('datasetfinal.csv')"
      ],
      "execution_count": 21,
      "outputs": []
    },
    {
      "cell_type": "code",
      "metadata": {
        "id": "1HGCZTaivffn"
      },
      "source": [
        "dataset2 = pd.read_csv('datasetfinal.csv')"
      ],
      "execution_count": 22,
      "outputs": []
    },
    {
      "cell_type": "code",
      "metadata": {
        "id": "-P2vQHJ_3MG-"
      },
      "source": [
        "dataset2 = dataset2['Numpy']"
      ],
      "execution_count": 23,
      "outputs": []
    },
    {
      "cell_type": "code",
      "metadata": {
        "colab": {
          "base_uri": "https://localhost:8080/"
        },
        "id": "NIW2VPlgUE8j",
        "outputId": "5a2bc6af-8cfa-41ed-c37d-8c9201daffdd"
      },
      "source": [
        "a = np.load('/content/drive/MyDrive/dataset/A/AAN_20160429-00026.npy')\r\n",
        "a"
      ],
      "execution_count": 24,
      "outputs": [
        {
          "output_type": "execute_result",
          "data": {
            "text/plain": [
              "array([[-0.3849191 , -0.38496894, -0.38475287, ..., -0.3464815 ,\n",
              "        -0.3538037 , -0.3540598 ],\n",
              "       [-0.32827917, -0.33545294, -0.34577575, ..., -0.3350645 ,\n",
              "        -0.32972854, -0.3498755 ],\n",
              "       [-0.36684793, -0.36060226, -0.35555828, ..., -0.3456242 ,\n",
              "        -0.33874872, -0.36223802],\n",
              "       ...,\n",
              "       [-0.33801967, -0.34159628, -0.34971127, ..., -0.2471579 ,\n",
              "        -0.10009062, -0.3108754 ],\n",
              "       [-0.34650084, -0.3475857 , -0.35005373, ..., -0.287095  ,\n",
              "        -0.16330113, -0.32604936],\n",
              "       [-0.37026724, -0.36308202, -0.36681917, ..., -0.36191458,\n",
              "        -0.24840346, -0.37631407]], dtype=float32)"
            ]
          },
          "metadata": {
            "tags": []
          },
          "execution_count": 24
        }
      ]
    },
    {
      "cell_type": "code",
      "metadata": {
        "colab": {
          "base_uri": "https://localhost:8080/"
        },
        "id": "zb8uUDicVXbe",
        "outputId": "002dd4a1-0910-40bb-84db-c6b6b6796b10"
      },
      "source": [
        "array=[]\r\n",
        "for a in tqdm(dataset['0']):\r\n",
        "  b = np.load('/content/drive/MyDrive/dataset/A/' + str(a))\r\n",
        "  array.append(b)"
      ],
      "execution_count": 26,
      "outputs": [
        {
          "output_type": "stream",
          "text": [
            "100%|██████████| 433/433 [00:52<00:00,  8.21it/s]\n"
          ],
          "name": "stderr"
        }
      ]
    },
    {
      "cell_type": "code",
      "metadata": {
        "id": "WMMM5YNNvkTK"
      },
      "source": [
        "dataset = dataset.iloc[:,2:]"
      ],
      "execution_count": 27,
      "outputs": []
    },
    {
      "cell_type": "code",
      "metadata": {
        "id": "BSRjXlkC0kdn"
      },
      "source": [
        "dataset.drop('Numpy',axis=1,inplace=True)"
      ],
      "execution_count": 28,
      "outputs": []
    },
    {
      "cell_type": "code",
      "metadata": {
        "id": "DKFNvDVp0wqZ"
      },
      "source": [
        "train,test = dataset.iloc[:100,:],dataset.iloc[100:200,:]"
      ],
      "execution_count": 29,
      "outputs": []
    },
    {
      "cell_type": "code",
      "metadata": {
        "id": "Rc9uJywHtjx6"
      },
      "source": [
        "class Volitility:\r\n",
        "  DATA_COLUMN = \"Text\"\r\n",
        "  LABEL_COLUMN = \"Target\"\r\n",
        "\r\n",
        "  def __init__(self, train, test, tokenizer: FullTokenizer, max_seq_len=192):\r\n",
        "    self.tokenizer = tokenizer\r\n",
        "    self.max_seq_len = 0\r\n",
        "        \r\n",
        "    ((self.train_x, self.train_y), (self.test_x, self.test_y)) = map(self._prepare, [train, test])\r\n",
        "\r\n",
        "    print(\"max seq_len\", self.max_seq_len)\r\n",
        "    self.max_seq_len = min(self.max_seq_len, max_seq_len)\r\n",
        "    self.train_x, self.test_x = map(self._pad, [self.train_x, self.test_x])\r\n",
        "\r\n",
        "  def _prepare(self, df):\r\n",
        "    x, y = [], []\r\n",
        "    \r\n",
        "    for _, row in tqdm(df.iterrows()):\r\n",
        "      text, label = row[Volitility.DATA_COLUMN], row[Volitility.LABEL_COLUMN]\r\n",
        "      tokens = self.tokenizer.tokenize(text)\r\n",
        "      tokens = [\"[CLS]\"] + tokens + [\"[SEP]\"]\r\n",
        "      token_ids = self.tokenizer.convert_tokens_to_ids(tokens)\r\n",
        "      self.max_seq_len = max(self.max_seq_len, len(token_ids))\r\n",
        "      x.append(token_ids)\r\n",
        "      y.append(label)\r\n",
        "\r\n",
        "    return np.array(x), np.array(y)\r\n",
        "\r\n",
        "  def _pad(self, ids):\r\n",
        "    x = []\r\n",
        "    for input_ids in ids:\r\n",
        "      input_ids = input_ids[:min(len(input_ids), self.max_seq_len - 2)]\r\n",
        "      input_ids = input_ids + [0] * (self.max_seq_len - len(input_ids))\r\n",
        "      x.append(np.array(input_ids))\r\n",
        "    return np.array(x)"
      ],
      "execution_count": 30,
      "outputs": []
    },
    {
      "cell_type": "code",
      "metadata": {
        "colab": {
          "base_uri": "https://localhost:8080/"
        },
        "id": "es7F8aEpuN7E",
        "outputId": "2015ba04-9908-4942-8bbe-9121c0191f00"
      },
      "source": [
        "data = Volitility(train, test, tokenizer, max_seq_len=128)"
      ],
      "execution_count": 31,
      "outputs": [
        {
          "output_type": "stream",
          "text": [
            "100it [00:04, 21.01it/s]\n",
            "/usr/local/lib/python3.6/dist-packages/ipykernel_launcher.py:27: VisibleDeprecationWarning: Creating an ndarray from ragged nested sequences (which is a list-or-tuple of lists-or-tuples-or ndarrays with different lengths or shapes) is deprecated. If you meant to do this, you must specify 'dtype=object' when creating the ndarray\n",
            "100it [00:04, 24.53it/s]"
          ],
          "name": "stderr"
        },
        {
          "output_type": "stream",
          "text": [
            "max seq_len 7628\n"
          ],
          "name": "stdout"
        },
        {
          "output_type": "stream",
          "text": [
            "\n"
          ],
          "name": "stderr"
        }
      ]
    },
    {
      "cell_type": "code",
      "metadata": {
        "id": "DpeTVVD01kdF"
      },
      "source": [
        "array2 = array[:100]"
      ],
      "execution_count": 32,
      "outputs": []
    },
    {
      "cell_type": "code",
      "metadata": {
        "colab": {
          "base_uri": "https://localhost:8080/"
        },
        "id": "KdOUxlfm9qjS",
        "outputId": "5b0f4936-a785-44f7-f581-d87521244fda"
      },
      "source": [
        "z = pd.DataFrame(array2)\r\n",
        "\r\n",
        "bigarray1 = []\r\n",
        "bigarray2 = []\r\n",
        "smallarray = []\r\n",
        "for a in tqdm(range(100)):\r\n",
        "  for b in range(len(z.iloc[a,:][0])):\r\n",
        "    for c in range(64):\r\n",
        "      smallarray.append(z.iloc[a,:][0][b][c])\r\n",
        "  bigarray2.append(smallarray)"
      ],
      "execution_count": 33,
      "outputs": [
        {
          "output_type": "stream",
          "text": [
            "/usr/local/lib/python3.6/dist-packages/pandas/core/internals/construction.py:305: VisibleDeprecationWarning: Creating an ndarray from ragged nested sequences (which is a list-or-tuple of lists-or-tuples-or ndarrays with different lengths or shapes) is deprecated. If you meant to do this, you must specify 'dtype=object' when creating the ndarray\n",
            "  values = np.array([convert(v) for v in values])\n",
            "100%|██████████| 100/100 [06:52<00:00,  4.13s/it]\n"
          ],
          "name": "stderr"
        }
      ]
    },
    {
      "cell_type": "code",
      "metadata": {
        "colab": {
          "base_uri": "https://localhost:8080/"
        },
        "id": "6D_njMOnbkJm",
        "outputId": "d534ce6e-a277-4a09-8214-832fbc28ba05"
      },
      "source": [
        "print(len(bigarray2))\r\n",
        "print(len(smallarray))"
      ],
      "execution_count": 34,
      "outputs": [
        {
          "output_type": "stream",
          "text": [
            "100\n",
            "4533248\n"
          ],
          "name": "stdout"
        }
      ]
    },
    {
      "cell_type": "code",
      "metadata": {
        "colab": {
          "base_uri": "https://localhost:8080/"
        },
        "id": "QbU9yWf9bzAk",
        "outputId": "b1099c47-3b83-404f-a637-829d842ab7d5"
      },
      "source": [
        "bigarray3 = bigarray2\r\n",
        "bigarray3 = np.asarray(bigarray3)\r\n",
        "bigarray3.shape"
      ],
      "execution_count": 37,
      "outputs": [
        {
          "output_type": "execute_result",
          "data": {
            "text/plain": [
              "(100, 4533248)"
            ]
          },
          "metadata": {
            "tags": []
          },
          "execution_count": 37
        }
      ]
    },
    {
      "cell_type": "code",
      "metadata": {
        "colab": {
          "base_uri": "https://localhost:8080/"
        },
        "id": "cr1VoOmmw5Jq",
        "outputId": "ba6dd44f-16a3-4faa-edd1-39368fbf53d6"
      },
      "source": [
        "bigarray3 = bigarray3.reshape(100,-1,64)\r\n",
        "bigarray3.shape"
      ],
      "execution_count": 39,
      "outputs": [
        {
          "output_type": "execute_result",
          "data": {
            "text/plain": [
              "(100, 70832, 64)"
            ]
          },
          "metadata": {
            "tags": []
          },
          "execution_count": 39
        }
      ]
    },
    {
      "cell_type": "code",
      "metadata": {
        "id": "CBpRYwkb2tNn"
      },
      "source": [
        "def create_model(max_seq_len, bert_ckpt_file):\r\n",
        "\r\n",
        "  with tf.io.gfile.GFile(bert_config_file, \"r\") as reader:\r\n",
        "      bc = StockBertConfig.from_json_string(reader.read())\r\n",
        "      bert_params = map_stock_config_to_params(bc)\r\n",
        "      bert_params.adapter_size = None\r\n",
        "      bert = BertModelLayer.from_params(bert_params, name=\"bert\")\r\n",
        "        \r\n",
        "  input_ids = keras.layers.Input(shape=(max_seq_len, ), dtype='int32', name=\"input_ids\")\r\n",
        "  input_2 = keras.layers.Input(shape=(None,64), dtype = 'int32', name = 'audio')\r\n",
        "  bert_output = bert(input_ids)\r\n",
        "  output1 = keras.layers.Dense(units=768, activation=\"relu\")(input_2)\r\n",
        "  \r\n",
        "\r\n",
        "  print(\"bert shape\", bert_output.shape)\r\n",
        "\r\n",
        "  bert_output = keras.layers.Concatenate(axis=1)([bert_output, output1])\r\n",
        "  cls_out = keras.layers.Lambda(lambda seq: seq[:, 0, :])(bert_output)\r\n",
        "  \r\n",
        "  logits = keras.layers.Dense(units=768, activation=\"relu\")(cls_out)\r\n",
        "  logits = keras.layers.Dense(units=256, activation=\"relu\")(logits)\r\n",
        "  logits = keras.layers.Dense(units=1)(logits)\r\n",
        "\r\n",
        "  model = keras.Model(inputs=[input_ids,input_2], outputs=logits)\r\n",
        "  model.build(input_shape=(None, max_seq_len))\r\n",
        "\r\n",
        "  load_stock_weights(bert, bert_ckpt_file)\r\n",
        "        \r\n",
        "  return model"
      ],
      "execution_count": 51,
      "outputs": []
    },
    {
      "cell_type": "code",
      "metadata": {
        "colab": {
          "base_uri": "https://localhost:8080/"
        },
        "id": "xWYGMy3tbbNR",
        "outputId": "8b8bf097-6da0-44ad-e91c-7552b43956f8"
      },
      "source": [
        "model = create_model(data.max_seq_len, bert_ckpt_file)"
      ],
      "execution_count": 52,
      "outputs": [
        {
          "output_type": "stream",
          "text": [
            "bert shape (None, 128, 768)\n",
            "Done loading 196 BERT weights from: model/uncased_L-12_H-768_A-12/bert_model.ckpt into <bert.model.BertModelLayer object at 0x7f2e5110db70> (prefix:bert). Count of weights not found in the checkpoint was: [0]. Count of weights with mismatched shape: [0]\n",
            "Unused weights from checkpoint: \n",
            "\tbert/embeddings/token_type_embeddings\n",
            "\tbert/pooler/dense/bias\n",
            "\tbert/pooler/dense/kernel\n",
            "\tcls/predictions/output_bias\n",
            "\tcls/predictions/transform/LayerNorm/beta\n",
            "\tcls/predictions/transform/LayerNorm/gamma\n",
            "\tcls/predictions/transform/dense/bias\n",
            "\tcls/predictions/transform/dense/kernel\n",
            "\tcls/seq_relationship/output_bias\n",
            "\tcls/seq_relationship/output_weights\n"
          ],
          "name": "stdout"
        }
      ]
    },
    {
      "cell_type": "code",
      "metadata": {
        "colab": {
          "base_uri": "https://localhost:8080/"
        },
        "id": "SyUcIThfbhGs",
        "outputId": "fd6c3b54-a233-4160-a455-1088d6768f72"
      },
      "source": [
        "model.summary()"
      ],
      "execution_count": 53,
      "outputs": [
        {
          "output_type": "stream",
          "text": [
            "Model: \"model_1\"\n",
            "__________________________________________________________________________________________________\n",
            "Layer (type)                    Output Shape         Param #     Connected to                     \n",
            "==================================================================================================\n",
            "input_ids (InputLayer)          [(None, 128)]        0                                            \n",
            "__________________________________________________________________________________________________\n",
            "audio (InputLayer)              [(None, None, 64)]   0                                            \n",
            "__________________________________________________________________________________________________\n",
            "bert (BertModelLayer)           (None, 128, 768)     108890112   input_ids[0][0]                  \n",
            "__________________________________________________________________________________________________\n",
            "dense_4 (Dense)                 (None, None, 768)    49920       audio[0][0]                      \n",
            "__________________________________________________________________________________________________\n",
            "concatenate_2 (Concatenate)     (None, None, 768)    0           bert[0][0]                       \n",
            "                                                                 dense_4[0][0]                    \n",
            "__________________________________________________________________________________________________\n",
            "lambda_2 (Lambda)               (None, 768)          0           concatenate_2[0][0]              \n",
            "__________________________________________________________________________________________________\n",
            "dense_5 (Dense)                 (None, 768)          590592      lambda_2[0][0]                   \n",
            "__________________________________________________________________________________________________\n",
            "dense_6 (Dense)                 (None, 256)          196864      dense_5[0][0]                    \n",
            "__________________________________________________________________________________________________\n",
            "dense_7 (Dense)                 (None, 1)            257         dense_6[0][0]                    \n",
            "==================================================================================================\n",
            "Total params: 109,727,745\n",
            "Trainable params: 109,727,745\n",
            "Non-trainable params: 0\n",
            "__________________________________________________________________________________________________\n"
          ],
          "name": "stdout"
        }
      ]
    },
    {
      "cell_type": "code",
      "metadata": {
        "colab": {
          "base_uri": "https://localhost:8080/",
          "height": 661
        },
        "id": "g_RqT9mWCgFs",
        "outputId": "0aed61f7-eb5c-4347-c27c-bbb3127488ea"
      },
      "source": [
        "tf.keras.utils.plot_model(\r\n",
        "    model, to_file='model.png', show_shapes=False, show_dtype=False,\r\n",
        "    show_layer_names=True, rankdir='TB', expand_nested=False, dpi=96\r\n",
        ")"
      ],
      "execution_count": 54,
      "outputs": [
        {
          "output_type": "execute_result",
          "data": {
            "image/png": "[encoded data removed]",
            "text/plain": [
              "<IPython.core.display.Image object>"
            ]
          },
          "metadata": {
            "tags": []
          },
          "execution_count": 54
        }
      ]
    },
    {
      "cell_type": "code",
      "metadata": {
        "id": "ziI6-WTGbvWC"
      },
      "source": [
        "model.compile(optimizer = keras.optimizers.Adam(),loss = 'mse')"
      ],
      "execution_count": 55,
      "outputs": []
    },
    {
      "cell_type": "code",
      "metadata": {
        "colab": {
          "base_uri": "https://localhost:8080/"
        },
        "id": "u9ssWTnJeGbV",
        "outputId": "592fb3be-68af-464f-cf83-8f859c911ad9"
      },
      "source": [
        "history = model.fit(x=[data.train_x,bigarray3],y=data.train_y,\r\n",
        "  batch_size=1,\r\n",
        "  epochs=10)"
      ],
      "execution_count": 56,
      "outputs": [
        {
          "output_type": "stream",
          "text": [
            "Epoch 1/10\n",
            "100/100 [==============================] - 35s 267ms/step - loss: 4.3255\n",
            "Epoch 2/10\n",
            "100/100 [==============================] - 27s 266ms/step - loss: 1.5520\n",
            "Epoch 3/10\n",
            "100/100 [==============================] - 26s 261ms/step - loss: 1.2111\n",
            "Epoch 4/10\n",
            "100/100 [==============================] - 26s 264ms/step - loss: 1.5104\n",
            "Epoch 5/10\n",
            "100/100 [==============================] - 26s 265ms/step - loss: 1.2641\n",
            "Epoch 6/10\n",
            "100/100 [==============================] - 26s 264ms/step - loss: 1.0789\n",
            "Epoch 7/10\n",
            "100/100 [==============================] - 27s 265ms/step - loss: 1.2434\n",
            "Epoch 8/10\n",
            "100/100 [==============================] - 27s 270ms/step - loss: 0.9506\n",
            "Epoch 9/10\n",
            "100/100 [==============================] - 27s 266ms/step - loss: 1.5013\n",
            "Epoch 10/10\n",
            "100/100 [==============================] - 26s 264ms/step - loss: 1.2339\n"
          ],
          "name": "stdout"
        }
      ]
    },
    {
      "cell_type": "code",
      "metadata": {
        "colab": {
          "base_uri": "https://localhost:8080/",
          "height": 281
        },
        "id": "XWOgaa8P_zmZ",
        "outputId": "976c3f62-6a52-4635-9712-6ed50167516b"
      },
      "source": [
        "%matplotlib inline\r\n",
        "import matplotlib.pyplot as plt\r\n",
        "loss = history.history['loss']\r\n",
        "\r\n",
        "epochs = range(len(loss))\r\n",
        "\r\n",
        "plt.plot(epochs, loss, 'r', label='Training Loss')\r\n",
        "plt.title('Training loss')\r\n",
        "plt.legend()\r\n",
        "plt.savefig('loss.png')\r\n",
        "plt.show()"
      ],
      "execution_count": 58,
      "outputs": [
        {
          "output_type": "display_data",
          "data": {
            "image/png": "[encoded data removed]",
            "text/plain": [
              "<Figure size 432x288 with 1 Axes>"
            ]
          },
          "metadata": {
            "tags": [],
            "needs_background": "light"
          }
        }
      ]
    },
    {
      "cell_type": "code",
      "metadata": {
        "id": "qagks-B8ow2r"
      },
      "source": [
        ""
      ],
      "execution_count": null,
      "outputs": []
    }
  ]
}